{
 "cells": [
  {
   "cell_type": "code",
   "execution_count": 2,
   "metadata": {},
   "outputs": [
    {
     "name": "stdout",
     "output_type": "stream",
     "text": [
      "18.8 ns ± 0.123 ns per loop (mean ± std. dev. of 7 runs, 100,000,000 loops each)\n",
      "5.12 ns ± 0.0158 ns per loop (mean ± std. dev. of 7 runs, 100,000,000 loops each)\n"
     ]
    }
   ],
   "source": [
    "%timeit l=[3,4,67,86,6]\n",
    "%timeit t=(33,5,54,3,2)"
   ]
  },
  {
   "cell_type": "code",
   "execution_count": 6,
   "metadata": {},
   "outputs": [
    {
     "name": "stdout",
     "output_type": "stream",
     "text": [
      "[('hi', 'NN'), (',', ','), ('i', 'NN'), ('am', 'VBP'), ('rahul', 'NN'), ('.', '.')]\n",
      "[('I', 'PRP'), ('am', 'VBP'), ('from', 'IN'), ('kwakeithel', 'NN'), ('.', '.')]\n",
      "[('I', 'PRP'), ('work', 'VBP'), ('in', 'IN'), ('armsoft', 'NN'), ('.', '.')]\n"
     ]
    }
   ],
   "source": [
    "import nltk\n",
    "\n",
    "text=\"hi, i am rahul. I am from kwakeithel. I work in armsoft.\"\n",
    "sent_text = nltk.sent_tokenize(text) # this gives us a list of sentences\n",
    "# now loop over each sentence and tokenize it separately\n",
    "for sentence in sent_text:\n",
    "    tokenized_text = nltk.word_tokenize(sentence)\n",
    "    tagged = nltk.pos_tag(tokenized_text)\n",
    "    print(tagged)"
   ]
  },
  {
   "cell_type": "code",
   "execution_count": 8,
   "metadata": {},
   "outputs": [
    {
     "name": "stdout",
     "output_type": "stream",
     "text": [
      "[['hi', ',', 'i', 'am', 'rahul', '.'], ['I', 'am', 'from', 'kwakeithel', '.'], ['I', 'work', 'in', 'armsoft', '.']]\n"
     ]
    }
   ],
   "source": [
    "from nltk.tokenize import TweetTokenizer, sent_tokenize\n",
    "\n",
    "tokenizer_words = TweetTokenizer()\n",
    "tokens_sentences = [tokenizer_words.tokenize(t) for t in \n",
    "nltk.sent_tokenize(text)]\n",
    "print(tokens_sentences)"
   ]
  }
 ],
 "metadata": {
  "kernelspec": {
   "display_name": "Python 3",
   "language": "python",
   "name": "python3"
  },
  "language_info": {
   "codemirror_mode": {
    "name": "ipython",
    "version": 3
   },
   "file_extension": ".py",
   "mimetype": "text/x-python",
   "name": "python",
   "nbconvert_exporter": "python",
   "pygments_lexer": "ipython3",
   "version": "3.9.16"
  },
  "orig_nbformat": 4,
  "vscode": {
   "interpreter": {
    "hash": "916dbcbb3f70747c44a77c7bcd40155683ae19c65e1c03b4aa3499c5328201f1"
   }
  }
 },
 "nbformat": 4,
 "nbformat_minor": 2
}
